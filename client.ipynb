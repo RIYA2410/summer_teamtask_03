{
 "cells": [
  {
   "cell_type": "code",
   "execution_count": 1,
   "id": "c5bba47b",
   "metadata": {},
   "outputs": [],
   "source": [
    "import socket"
   ]
  },
  {
   "cell_type": "code",
   "execution_count": 2,
   "id": "d38aca37",
   "metadata": {},
   "outputs": [],
   "source": [
    "import cv2"
   ]
  },
  {
   "cell_type": "code",
   "execution_count": 3,
   "id": "c98788b9",
   "metadata": {},
   "outputs": [],
   "source": [
    "import pickle"
   ]
  },
  {
   "cell_type": "code",
   "execution_count": 4,
   "id": "96222413",
   "metadata": {},
   "outputs": [],
   "source": [
    "import struct"
   ]
  },
  {
   "cell_type": "code",
   "execution_count": 5,
   "id": "030428dd",
   "metadata": {},
   "outputs": [],
   "source": [
    "s = socket.socket(socket.AF_INET, socket.SOCK_STREAM)"
   ]
  },
  {
   "cell_type": "code",
   "execution_count": 6,
   "id": "d8d87980",
   "metadata": {},
   "outputs": [],
   "source": [
    "server_ip =\"192.168.56.1\"\n",
    "port = 1234\n",
    "socket = ((server_ip,port))\n",
    "s.connect(socket)\n",
    "data = b\"\"\n",
    "payload_size = struct.calcsize(\"Q\")               #returns the size of the struct\n",
    "\n",
    "while True:\n",
    "    while len(data) < payload_size:\n",
    "        packet = s.recv(41024)\n",
    "        if not packet:\n",
    "            break\n",
    "        data+=packet\n",
    "    packed_msg_size = data[:payload_size]\n",
    "    data = data[payload_size :]\n",
    "    msg_size = struct.unpack(\"Q\", packed_msg_size)[0]         #convert the string into its original form\n",
    "    \n",
    "    while len(data)  <  msg_size:\n",
    "        data += s.recv(41024)\n",
    "    frame_data = data[ :msg_size]\n",
    "    data = data[msg_size :]\n",
    "    frame = pickle.loads(frame_data)\n",
    "    cv2.imshow(\"Video_call\", frame)\n",
    "    key = cv2.waitKey(10)\n",
    "    if key == 13:\n",
    "        break\n",
    "s.close()"
   ]
  },
  {
   "cell_type": "code",
   "execution_count": null,
   "id": "8b37d365",
   "metadata": {},
   "outputs": [],
   "source": []
  }
 ],
 "metadata": {
  "kernelspec": {
   "display_name": "Python 3",
   "language": "python",
   "name": "python3"
  },
  "language_info": {
   "codemirror_mode": {
    "name": "ipython",
    "version": 3
   },
   "file_extension": ".py",
   "mimetype": "text/x-python",
   "name": "python",
   "nbconvert_exporter": "python",
   "pygments_lexer": "ipython3",
   "version": "3.8.8"
  }
 },
 "nbformat": 4,
 "nbformat_minor": 5
}
